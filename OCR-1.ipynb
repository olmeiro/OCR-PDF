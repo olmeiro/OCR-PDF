{
 "cells": [
  {
   "cell_type": "code",
   "execution_count": 1,
   "metadata": {},
   "outputs": [],
   "source": [
    "from document_intelligence_functions import DocumentIntelligence\n",
    "import os\n",
    "import pandas as pd"
   ]
  },
  {
   "cell_type": "code",
   "execution_count": 2,
   "metadata": {},
   "outputs": [],
   "source": [
    "def process_table(table):\n",
    "    data = {}\n",
    "    for index, row in table.iterrows():\n",
    "        # Concatenar todos los elementos no nulos de la fila en una sola cadena\n",
    "        full_row = ' '.join(str(item) for item in row if pd.notna(item))\n",
    "        # Dividir la cadena completa en posibles pares clave-valor\n",
    "        parts = full_row.split(':')\n",
    "        current_key = None\n",
    "        \n",
    "        # Iterar sobre las partes para formar correctamente los pares clave-valor\n",
    "        for i, part in enumerate(parts):\n",
    "            if i == 0:\n",
    "                # El primer elemento siempre es una clave\n",
    "                current_key = part.strip()\n",
    "            else:\n",
    "                # Los siguientes elementos pueden ser valor de la clave anterior y clave del siguiente par\n",
    "                # Dividir en el último espacio para separar el valor de la nueva clave\n",
    "                last_space_index = part.rfind(' ')\n",
    "                if last_space_index != -1:\n",
    "                    value = part[:last_space_index].strip()\n",
    "                    new_key = part[last_space_index:].strip()\n",
    "                    \n",
    "                    if current_key and value:\n",
    "                        data[current_key] = value\n",
    "                    current_key = new_key\n",
    "                else:\n",
    "                    # En caso de que no haya espacio, toda la parte es un valor\n",
    "                    if current_key:\n",
    "                        data[current_key] = part.strip()\n",
    "                        \n",
    "        # Asegurarse de añadir el último par si es necesario\n",
    "        if current_key and i == len(parts) - 1 and parts[i]:\n",
    "            data[current_key] = parts[i].strip()\n",
    "    \n",
    "    return data\n"
   ]
  },
  {
   "cell_type": "code",
   "execution_count": 4,
   "metadata": {},
   "outputs": [
    {
     "name": "stdout",
     "output_type": "stream",
     "text": [
      "Directorio de trabajo actual: c:\\Users\\OlmeiroOrozcoOrtiz\\Downloads\\OCR Frontera\n"
     ]
    }
   ],
   "source": [
    "# Cambiar al directorio deseado (si es necesario)\n",
    "# os.chdir('/path/to/your/directory')\n",
    "\n",
    "# Comprobar el directorio actual para confirmar que es correcto\n",
    "print(\"Directorio de trabajo actual:\", os.getcwd())\n",
    "\n",
    "# Ruta al documento PDF\n",
    "file_path = \"F6CR_Aprobada_Hamaca-100D_27052022.pdf\""
   ]
  },
  {
   "cell_type": "code",
   "execution_count": 5,
   "metadata": {},
   "outputs": [
    {
     "name": "stdout",
     "output_type": "stream",
     "text": [
      "Error al procesar el documento: No connection adapters were found for '/formrecognizer/documentModels/prebuilt-layout:analyze?stringIndexType=unicodeCodePoint&api-version=2023-07-31'\n"
     ]
    },
    {
     "ename": "",
     "evalue": "",
     "output_type": "error",
     "traceback": [
      "\u001b[1;31mThe Kernel crashed while executing code in the current cell or a previous cell. \n",
      "\u001b[1;31mPlease review the code in the cell(s) to identify a possible cause of the failure. \n",
      "\u001b[1;31mClick <a href='https://aka.ms/vscodeJupyterKernelCrash'>here</a> for more info. \n",
      "\u001b[1;31mView Jupyter <a href='command:jupyter.viewOutput'>log</a> for further details."
     ]
    }
   ],
   "source": [
    "# Crear una instancia de la clase DocumentIntelligence\n",
    "doc_intelligence = DocumentIntelligence()\n",
    "\n",
    "# Intentar llamar al método analyze_read para procesar el documento\n",
    "try:\n",
    "    text_content, tables = doc_intelligence.analyze_read(file_path=file_path)\n",
    "except Exception as e:\n",
    "    print(f\"Error al procesar el documento: {e}\")\n",
    "    exit()\n"
   ]
  },
  {
   "cell_type": "code",
   "execution_count": null,
   "metadata": {},
   "outputs": [],
   "source": [
    "# Imprimir el contenido del documento\n",
    "# for page_text in text_content:\n",
    "#     print(\"Contenido de la página:\", page_text)"
   ]
  },
  {
   "cell_type": "code",
   "execution_count": null,
   "metadata": {},
   "outputs": [],
   "source": [
    "# Preparar un DataFrame para guardar todos los datos\n",
    "all_data = []\n",
    "\n",
    "# Si hay tablas, procesarlas\n",
    "if tables:\n",
    "    for table in tables:\n",
    "        data = process_table(table)\n",
    "        if data:\n",
    "            print(data)  # Opcional: imprimir para depuración\n",
    "            all_data.append(data)"
   ]
  },
  {
   "cell_type": "code",
   "execution_count": null,
   "metadata": {},
   "outputs": [],
   "source": [
    "# Convertir todos los datos en un DataFrame y guardarlos en Excel\n",
    "if all_data:\n",
    "    df = pd.DataFrame(all_data)\n",
    "    try:\n",
    "        df.to_excel(\"datos_pozo.xlsx\", index=False)\n",
    "        print(\"Todos los datos han sido exportados a Excel exitosamente.\")\n",
    "    except Exception as e:\n",
    "        print(f\"Error al guardar en Excel: {e}\")\n",
    "else:\n",
    "    print(\"No se encontraron datos para exportar.\")\n"
   ]
  }
 ],
 "metadata": {
  "kernelspec": {
   "display_name": ".venv",
   "language": "python",
   "name": "python3"
  },
  "language_info": {
   "codemirror_mode": {
    "name": "ipython",
    "version": 3
   },
   "file_extension": ".py",
   "mimetype": "text/x-python",
   "name": "python",
   "nbconvert_exporter": "python",
   "pygments_lexer": "ipython3",
   "version": "3.11.8"
  }
 },
 "nbformat": 4,
 "nbformat_minor": 2
}
